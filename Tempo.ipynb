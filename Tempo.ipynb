{
 "cells": [
  {
   "cell_type": "markdown",
   "metadata": {
    "id": "1TGvAW2ce4nb"
   },
   "source": [
    "# Primeira e Segunda Parte"
   ]
  },
  {
   "cell_type": "code",
   "execution_count": null,
   "metadata": {
    "id": "vH4d2O_XdZ7M"
   },
   "outputs": [],
   "source": [
    "import matplotlib.pyplot as plt\n",
    "import plotly.graph_objects as go\n",
    "import random\n",
    "import pandas as pd\n",
    "import numpy as np\n",
    "from scipy import stats\n",
    "import networkx as nx\n",
    "from scipy.stats import poisson\n",
    "from scipy.stats import nbinom\n",
    "from timeit import default_timer as timer\n",
    "from plotly.subplots import make_subplots"
   ]
  },
  {
   "cell_type": "code",
   "execution_count": null,
   "metadata": {
    "colab": {
     "base_uri": "https://localhost:8080/"
    },
    "id": "RrmfQaXVghIo",
    "outputId": "94e5bf77-3253-4e64-b297-8c0abba1a3bc"
   },
   "outputs": [],
   "source": [
    "r = 0.5\n",
    "mu = 6\n",
    "\n",
    "p = r/(r+mu)\n",
    "print(p)"
   ]
  },
  {
   "cell_type": "code",
   "execution_count": null,
   "metadata": {
    "id": "WWI7HpfntgEy"
   },
   "outputs": [],
   "source": [
    "N = [100,1000,3000,5000,8000, 10000]"
   ]
  },
  {
   "cell_type": "code",
   "execution_count": null,
   "metadata": {
    "colab": {
     "base_uri": "https://localhost:8080/"
    },
    "id": "47ZA6VbpgngP",
    "outputId": "b0929c6a-e141-4c3a-b917-7d25d3feba91"
   },
   "outputs": [],
   "source": [
    "dist = []\n",
    "for i in range(len(N)):\n",
    "\n",
    "  nb = nbinom.rvs(r, p, size=N[i])\n",
    "\n",
    "  while sum(nb) % 2 != 0:\n",
    "    nb = nbinom.rvs(r, p, size=N[i])\n",
    "\n",
    "  dist.append(nb)\n",
    "\n",
    "print(dist[0])\n"
   ]
  },
  {
   "cell_type": "code",
   "execution_count": null,
   "metadata": {
    "id": "_hmwOnDlsnsG"
   },
   "outputs": [],
   "source": [
    "teste = nbinom.rvs(r, p, size=50)\n",
    "\n",
    "while sum(teste) % 2 != 0:\n",
    "  teste = nbinom.rvs(r, p, size=50)\n",
    "\n",
    "G_teste = nx.configuration_model(teste)\n",
    "G_teste.remove_edges_from(nx.selfloop_edges(G_teste))\n",
    "\n",
    "G_100 = nx.configuration_model(dist[0])\n",
    "G_100.remove_edges_from(nx.selfloop_edges(G_100))\n",
    "\n",
    "G_1000 = nx.configuration_model(dist[1])\n",
    "G_1000.remove_edges_from(nx.selfloop_edges(G_1000))\n",
    "\n",
    "G_3000 = nx.configuration_model(dist[2])\n",
    "G_3000.remove_edges_from(nx.selfloop_edges(G_3000))\n",
    "\n",
    "G_5000 = nx.configuration_model(dist[3])\n",
    "G_5000.remove_edges_from(nx.selfloop_edges(G_5000))\n",
    "\n",
    "G_8000 = nx.configuration_model(dist[4])\n",
    "G_8000.remove_edges_from(nx.selfloop_edges(G_8000))\n",
    "\n",
    "G_10000 = nx.configuration_model(dist[5])\n",
    "G_10000.remove_edges_from(nx.selfloop_edges(G_10000))"
   ]
  },
  {
   "cell_type": "code",
   "execution_count": null,
   "metadata": {},
   "outputs": [],
   "source": [
    "pos = nx.circular_layout(G_teste)\n",
    "plt.figure(figsize=(10,10))\n",
    "plt.axis(\"off\")\n",
    "nx.draw_networkx_nodes(G_teste,pos, node_size=300, node_color=\"black\")\n",
    "nx.draw_networkx_edges(G_teste,pos, alpha=0.500)\n",
    "nx.draw_networkx_labels(G_teste, pos, font_color=\"white\")\n",
    "plt.show()"
   ]
  },
  {
   "cell_type": "code",
   "execution_count": null,
   "metadata": {
    "id": "HkLaBPEhxZQz"
   },
   "outputs": [],
   "source": [
    "def gillespie_simulation(G, states, beta, gamma, max_time,N):\n",
    "    t = 0\n",
    "    time = []\n",
    "    susceptible = []\n",
    "    infected = []\n",
    "    recovered = []\n",
    "    rho_i_t = []\n",
    "    aux = np.inf\n",
    "\n",
    "\n",
    "    while t < max_time:  # Enquanto tempo não exceder o máximo\n",
    "        rates = []\n",
    "        events = []\n",
    "\n",
    "        for node in range(N):\n",
    "            if states[node] == 1:\n",
    "              for neighbor in G.neighbors(node):\n",
    "                  if states[neighbor] == 0:\n",
    "                      rates.append(beta)\n",
    "                      events.append(('infection', node, neighbor))\n",
    "              rates.append(gamma)\n",
    "              events.append(('recovery', node))\n",
    "\n",
    "        if not rates:\n",
    "            break\n",
    "\n",
    "        rate_sum = sum(rates)\n",
    "        delta_t = np.random.exponential(1 / rate_sum)\n",
    "        t += delta_t\n",
    "\n",
    "        chosen_event = np.random.choice(len(events), p=np.array(rates) / rate_sum)\n",
    "        event_type, node, *args = events[chosen_event]\n",
    "\n",
    "        if event_type == 'infection':\n",
    "            states[args[0]] = 1  # Suscetível -> Infectado\n",
    "        elif event_type == 'recovery':\n",
    "            states[node] = 2  # Infectado -> Recuperado\n",
    "\n",
    "        time.append(t)\n",
    "        susceptible.append(np.sum(states == 0))\n",
    "        infected.append(np.sum(states == 1))\n",
    "        recovered.append(np.sum(states == 2))\n",
    "\n",
    "        if abs(aux - np.sum(states == 2)/G.number_of_nodes()) < 1e-3:\n",
    "          rho_i_t.append(np.sum(states == 2)/G.number_of_nodes())\n",
    "        aux = np.sum(states == 2)/G.number_of_nodes()\n",
    "\n",
    "\n",
    "    return time, susceptible, infected, recovered, rho_i_t"
   ]
  },
  {
   "cell_type": "code",
   "execution_count": null,
   "metadata": {
    "id": "8EmTmDdkG82S"
   },
   "outputs": [],
   "source": [
    "beta = 0\n",
    "gamma = 1\n",
    "initial_infected = 10\n",
    "max_time = 200"
   ]
  },
  {
   "cell_type": "code",
   "execution_count": null,
   "metadata": {
    "id": "ogjOCiPa_J7B"
   },
   "outputs": [],
   "source": [
    "def plot_infection(N,G):\n",
    "  states = np.zeros(N, dtype=int)\n",
    "\n",
    "  # Definir nós infectados iniciais\n",
    "  initial_infected_nodes = np.random.choice(N, initial_infected, replace=False)\n",
    "  states[initial_infected_nodes] = 1\n",
    "\n",
    "\n",
    "  start = timer()\n",
    "\n",
    "  time, susceptible, infected, recovered, rho_t = gillespie_simulation(G, states, beta, gamma, max_time,N)\n",
    "\n",
    "  end = timer()\n",
    "\n",
    "  t = end - start\n",
    "\n",
    "  # Plotar os resultados usando Plotly\n",
    "  fig = go.Figure()\n",
    "\n",
    "  fig.add_trace(go.Scatter(x=time, y=susceptible, mode='lines', name='Susceptible', line=dict(color='blue')))\n",
    "  fig.add_trace(go.Scatter(x=time, y=infected, mode='lines', name='Infected', line=dict(color='red')))\n",
    "  fig.add_trace(go.Scatter(x=time, y=recovered, mode='lines', name='Recovered', line=dict(color='green')))\n",
    "\n",
    "  fig.update_layout(title=\"Simulação de Epidemia com Algoritmo de Gillespie\",\n",
    "                    xaxis_title=\"Tempo\",\n",
    "                    yaxis_title=\"Número de Indivíduos\",\n",
    "                    legend_title=\"Estado\",\n",
    "                    width=900, height=600)\n",
    "\n",
    "  fig.show()\n",
    "  return fig,t"
   ]
  },
  {
   "cell_type": "markdown",
   "metadata": {
    "id": "hKg4_8ntJAY6"
   },
   "source": [
    "## N = 100"
   ]
  },
  {
   "cell_type": "code",
   "execution_count": null,
   "metadata": {},
   "outputs": [],
   "source": [
    "fig1, t0 = plot_infection(N[0],G_100)"
   ]
  },
  {
   "cell_type": "code",
   "execution_count": null,
   "metadata": {},
   "outputs": [],
   "source": [
    "print('Demorou',t0, 'segundos')"
   ]
  },
  {
   "cell_type": "markdown",
   "metadata": {
    "id": "aK_bDM0MJR4k"
   },
   "source": [
    "## N = 1000"
   ]
  },
  {
   "cell_type": "code",
   "execution_count": null,
   "metadata": {},
   "outputs": [],
   "source": [
    "fig2,t1 = plot_infection(N[1],G_1000)"
   ]
  },
  {
   "cell_type": "code",
   "execution_count": null,
   "metadata": {
    "colab": {
     "base_uri": "https://localhost:8080/"
    },
    "id": "9h8WiEEmPS0a",
    "outputId": "7319d6f5-cdd7-4781-bc57-93d64c9e03d5"
   },
   "outputs": [],
   "source": [
    "print('Demorou',t1, 'segundos')"
   ]
  },
  {
   "cell_type": "markdown",
   "metadata": {
    "id": "jQxxOB3XOQUa"
   },
   "source": [
    "## N = 3000"
   ]
  },
  {
   "cell_type": "code",
   "execution_count": null,
   "metadata": {
    "colab": {
     "base_uri": "https://localhost:8080/",
     "height": 617
    },
    "id": "dyDkjWNxOaFs",
    "outputId": "37757543-074d-4bfb-a765-91f9165a9301"
   },
   "outputs": [],
   "source": [
    "fig3,t2 = plot_infection(N[2],G_3000)"
   ]
  },
  {
   "cell_type": "code",
   "execution_count": null,
   "metadata": {
    "colab": {
     "base_uri": "https://localhost:8080/"
    },
    "id": "ZUwRSYQNPUgY",
    "outputId": "d33eaab7-9102-43bd-f6be-1bca97f253fa"
   },
   "outputs": [],
   "source": [
    "print('Demorou',t2, 'segundos')"
   ]
  },
  {
   "cell_type": "markdown",
   "metadata": {
    "id": "Byuz24KBOi7b"
   },
   "source": [
    "## N = 5000"
   ]
  },
  {
   "cell_type": "code",
   "execution_count": null,
   "metadata": {
    "colab": {
     "base_uri": "https://localhost:8080/",
     "height": 617
    },
    "id": "aEBY-x1GOs13",
    "outputId": "923b30a6-f2e5-41e9-ca38-7f6d883a0665"
   },
   "outputs": [],
   "source": [
    "fig4,t3 = plot_infection(N[3],G_5000)"
   ]
  },
  {
   "cell_type": "code",
   "execution_count": null,
   "metadata": {
    "colab": {
     "base_uri": "https://localhost:8080/"
    },
    "id": "FzKX4aVlPWPU",
    "outputId": "8a781015-7fc1-439a-f500-edbe1d7b4d24"
   },
   "outputs": [],
   "source": [
    "print('Demorou',t3, 'segundos')"
   ]
  },
  {
   "cell_type": "markdown",
   "metadata": {
    "id": "YkhP1tznsJL6"
   },
   "source": [
    "## N = 8000"
   ]
  },
  {
   "cell_type": "code",
   "execution_count": null,
   "metadata": {
    "colab": {
     "base_uri": "https://localhost:8080/",
     "height": 617
    },
    "id": "0kwsENNxsRed",
    "outputId": "121c9877-21ae-43c2-df0e-bad6e39ceba1"
   },
   "outputs": [],
   "source": [
    "fig5,t4 = plot_infection(N[4],G_8000)"
   ]
  },
  {
   "cell_type": "code",
   "execution_count": null,
   "metadata": {
    "colab": {
     "base_uri": "https://localhost:8080/"
    },
    "id": "owCmRGGdtFFV",
    "outputId": "3d09b8fb-8906-4a08-ee8e-ee47aee7cdff"
   },
   "outputs": [],
   "source": [
    "print('Demorou',t4, 'segundos')"
   ]
  },
  {
   "cell_type": "markdown",
   "metadata": {
    "id": "2aOgFF9DGyiM"
   },
   "source": [
    "## N = 10000"
   ]
  },
  {
   "cell_type": "code",
   "execution_count": null,
   "metadata": {
    "colab": {
     "base_uri": "https://localhost:8080/",
     "height": 617
    },
    "id": "jtP1JOolPBqL",
    "outputId": "1c89ac9f-e3fa-48e1-e786-37153d5f2956"
   },
   "outputs": [],
   "source": [
    "fig6,t5 = plot_infection(N[5],G_10000)"
   ]
  },
  {
   "cell_type": "code",
   "execution_count": null,
   "metadata": {
    "colab": {
     "base_uri": "https://localhost:8080/"
    },
    "id": "BVQO6HpaPZAx",
    "outputId": "44323851-56a5-4fa2-8ef1-93d1122ba718"
   },
   "outputs": [],
   "source": [
    "print('Demorou',t5, 'segundos')"
   ]
  },
  {
   "cell_type": "code",
   "execution_count": null,
   "metadata": {
    "id": "hzNhQZubB0sA"
   },
   "outputs": [],
   "source": [
    "def plot_sub(plots):\n",
    "  fig = make_subplots(rows=3, cols=2, subplot_titles=(\"N = 100\", \"N = 1000\", \"N = 3000\", \"N = 5000\", \"N = 8000\",\"N = 10000\"),\n",
    "                    specs=[[{\"type\": \"scatter\"}, {\"type\": \"scatter\"}], [{\"type\": \"scatter\"},\n",
    "                           {\"type\": \"scatter\"}], [{\"type\": \"scatter\"}, {\"type\": \"scatter\"}]])\n",
    "\n",
    "  for i, subplot_fig in enumerate(plots, start=1):\n",
    "      show_legend = True if i == 1 else False\n",
    "      for trace in subplot_fig.data:\n",
    "          trace.showlegend = show_legend\n",
    "          fig.add_trace(trace, row=(i - 1) // 2 + 1, col=(i - 1) % 2 + 1)\n",
    "\n",
    "  # Ajustando o layout\n",
    "  fig.update_layout(height=800, width=1000, title_text=\"Simulations of epidemics using the Gillespie algorithm and the configuration model\")\n",
    "\n",
    "  # Exibindo o gráfico\n",
    "  fig.show()\n",
    "\n",
    "  return"
   ]
  },
  {
   "cell_type": "markdown",
   "metadata": {
    "id": "em54EgAMO1ou"
   },
   "source": [
    "## N = 100000 (Demorou mais que 9 horas e nem terminou...)"
   ]
  },
  {
   "cell_type": "markdown",
   "metadata": {
    "id": "kmpFvqEWBnj4"
   },
   "source": [
    "## Plotando os tempos"
   ]
  },
  {
   "cell_type": "code",
   "execution_count": null,
   "metadata": {
    "id": "5k0Urn1VC5Ti"
   },
   "outputs": [],
   "source": [
    "import plotly.express as px\n",
    "from scipy.optimize import curve_fit"
   ]
  },
  {
   "cell_type": "code",
   "execution_count": null,
   "metadata": {
    "id": "PPRtmnSzBPEk"
   },
   "outputs": [],
   "source": [
    "def plot_time(Ns,tempos):\n",
    "  coefficients = np.polyfit(Ns, tempos, 2) #Complexidade O(n²) do algoritmo de Gillespie\n",
    "  polynomial = np.poly1d(coefficients)\n",
    "\n",
    "  print(coefficients)\n",
    "\n",
    "  x = np.linspace(min(Ns), max(Ns), 500)\n",
    "  y = polynomial(x)\n",
    "\n",
    "  plt.scatter(Ns, tempos, label='Time(in seconds)', color='red')\n",
    "  plt.plot(x,y, label='Polynomial adjust', color='blue')\n",
    "  plt.xlabel(\"Size of the network\")\n",
    "  plt.ylabel(\"Seconds\")\n",
    "  plt.legend()\n",
    "  plt.show()\n",
    "\n",
    "  return x,y"
   ]
  },
  {
   "cell_type": "code",
   "execution_count": null,
   "metadata": {
    "colab": {
     "base_uri": "https://localhost:8080/",
     "height": 466
    },
    "id": "lzIouoA6Bp70",
    "outputId": "68f862a0-0fdf-402d-adc1-8eba06b596ad"
   },
   "outputs": [],
   "source": [
    "tempos = np.array([t0,t1,t2,t3,t4,t5])\n",
    "Ns = np.array(N)\n",
    "x,y = plot_time(Ns,tempos)"
   ]
  },
  {
   "cell_type": "markdown",
   "metadata": {
    "id": "UyshkdOrRO_0"
   },
   "source": [
    "# Terceira Parte"
   ]
  },
  {
   "cell_type": "code",
   "execution_count": null,
   "metadata": {
    "colab": {
     "base_uri": "https://localhost:8080/"
    },
    "id": "l0e4U6T0RS0O",
    "outputId": "2378ae15-5db7-4dd9-d7b9-ecac1670cadc"
   },
   "outputs": [],
   "source": [
    "print(N)\n",
    "print(mu)"
   ]
  },
  {
   "cell_type": "code",
   "execution_count": null,
   "metadata": {
    "id": "XI4bcCviRe4n"
   },
   "outputs": [],
   "source": [
    "GR_100 = nx.random_regular_graph(mu,N[0])\n",
    "GR_1000 = nx.random_regular_graph(mu,N[1])\n",
    "GR_3000 = nx.random_regular_graph(mu,N[2])\n",
    "GR_5000 = nx.random_regular_graph(mu,N[3])\n",
    "GR_8000 = nx.random_regular_graph(mu,N[4])\n",
    "GR_10000 = nx.random_regular_graph(mu,N[5])"
   ]
  },
  {
   "cell_type": "code",
   "execution_count": null,
   "metadata": {
    "colab": {
     "base_uri": "https://localhost:8080/",
     "height": 807
    },
    "id": "6jPkqKO_SxAv",
    "outputId": "fd5b5bef-0027-4c90-a858-a943ec849f3a"
   },
   "outputs": [],
   "source": [
    "pos = nx.fruchterman_reingold_layout(GR_100)\n",
    "plt.figure(figsize=(15,10))\n",
    "plt.axis(\"off\")\n",
    "nx.draw_networkx_nodes(GR_100, pos, node_size=300, node_color=\"black\")\n",
    "nx.draw_networkx_edges(GR_100, pos, alpha=0.500)\n",
    "nx.draw_networkx_labels(GR_100, pos, font_color=\"white\")\n",
    "plt.show()"
   ]
  },
  {
   "cell_type": "code",
   "execution_count": null,
   "metadata": {
    "colab": {
     "base_uri": "https://localhost:8080/",
     "height": 617
    },
    "id": "RdUNt9nq8zEI",
    "outputId": "2b61e4db-4620-4962-b190-2fb1cc2e97aa"
   },
   "outputs": [],
   "source": [
    "figr1,tr0 = plot_infection(N[0],GR_100)"
   ]
  },
  {
   "cell_type": "code",
   "execution_count": null,
   "metadata": {
    "colab": {
     "base_uri": "https://localhost:8080/"
    },
    "id": "J11Vo0qF9eh7",
    "outputId": "6a0ae116-da1c-42a0-dc1b-ce5e70e102e4"
   },
   "outputs": [],
   "source": [
    "print('Demorou',tr0, 'segundos')"
   ]
  },
  {
   "cell_type": "code",
   "execution_count": null,
   "metadata": {
    "colab": {
     "base_uri": "https://localhost:8080/",
     "height": 617
    },
    "id": "8tOPmlZC9Lzr",
    "outputId": "2743bc1a-0dc9-4236-bb0a-08bee31f1b71"
   },
   "outputs": [],
   "source": [
    "figr2,tr1 = plot_infection(N[1],GR_1000)"
   ]
  },
  {
   "cell_type": "code",
   "execution_count": null,
   "metadata": {
    "colab": {
     "base_uri": "https://localhost:8080/"
    },
    "id": "emCrth1X9jxh",
    "outputId": "dd4c66d9-7bcb-4309-8b35-aeb510f7b0c0"
   },
   "outputs": [],
   "source": [
    "print('Demorou',tr1, 'segundos')"
   ]
  },
  {
   "cell_type": "code",
   "execution_count": null,
   "metadata": {
    "colab": {
     "base_uri": "https://localhost:8080/",
     "height": 617
    },
    "id": "tLP4_v1W9OXp",
    "outputId": "54468303-b98d-4297-d860-74b17258f522"
   },
   "outputs": [],
   "source": [
    "figr3,tr2 = plot_infection(N[2],GR_3000)"
   ]
  },
  {
   "cell_type": "code",
   "execution_count": null,
   "metadata": {
    "colab": {
     "base_uri": "https://localhost:8080/"
    },
    "id": "UXEII7Yg9oyR",
    "outputId": "b57b10bb-d870-4fe3-bf9e-ac79949036ad"
   },
   "outputs": [],
   "source": [
    "print('Demorou',tr2, 'segundos')"
   ]
  },
  {
   "cell_type": "code",
   "execution_count": null,
   "metadata": {
    "colab": {
     "base_uri": "https://localhost:8080/",
     "height": 617
    },
    "id": "-2eV_I7O9xXY",
    "outputId": "34312daa-a476-4508-a84c-c32f96efcd17"
   },
   "outputs": [],
   "source": [
    "figr4,tr3 = plot_infection(N[3],GR_5000)"
   ]
  },
  {
   "cell_type": "code",
   "execution_count": null,
   "metadata": {
    "colab": {
     "base_uri": "https://localhost:8080/"
    },
    "id": "3SAcx3bv9vI3",
    "outputId": "6f419514-cb9d-464a-ee86-26b91950e7f9"
   },
   "outputs": [],
   "source": [
    "print('Demorou',tr3, 'segundos')"
   ]
  },
  {
   "cell_type": "code",
   "execution_count": null,
   "metadata": {
    "colab": {
     "base_uri": "https://localhost:8080/",
     "height": 617
    },
    "id": "d9RxNHYc9W-c",
    "outputId": "3ca442a4-8575-459e-de57-c89472e04f8b"
   },
   "outputs": [],
   "source": [
    "figr5,tr4 = plot_infection(N[4],GR_8000)"
   ]
  },
  {
   "cell_type": "code",
   "execution_count": null,
   "metadata": {
    "colab": {
     "base_uri": "https://localhost:8080/"
    },
    "id": "pP91J8AfC5gP",
    "outputId": "b1f7b4d3-e09e-4343-e55b-eb2d7af83bc4"
   },
   "outputs": [],
   "source": [
    "print('Demorou',tr4, 'segundos')"
   ]
  },
  {
   "cell_type": "code",
   "execution_count": null,
   "metadata": {
    "colab": {
     "base_uri": "https://localhost:8080/"
    },
    "id": "4bbDOZ8BCJpL",
    "outputId": "4923ec22-076f-4335-ae6a-17f253949ff4"
   },
   "outputs": [],
   "source": [
    "figr6,tr5 = plot_infection(N[5],GR_10000)"
   ]
  },
  {
   "cell_type": "code",
   "execution_count": null,
   "metadata": {
    "colab": {
     "base_uri": "https://localhost:8080/"
    },
    "id": "ftoS1pU19zp3",
    "outputId": "b2a865a0-2a9a-40a3-b103-6c3e604d88a8"
   },
   "outputs": [],
   "source": [
    "print('Demorou',tr5, 'segundos')"
   ]
  },
  {
   "cell_type": "code",
   "execution_count": null,
   "metadata": {
    "colab": {
     "base_uri": "https://localhost:8080/"
    },
    "id": "zVaPsMGsC_Pl",
    "outputId": "8d80e485-047e-4ab4-a561-d104a445dd14"
   },
   "outputs": [],
   "source": [
    "plot_sub([figr1,figr2,figr3,figr4,figr5,figr6])"
   ]
  },
  {
   "cell_type": "code",
   "execution_count": null,
   "metadata": {
    "colab": {
     "base_uri": "https://localhost:8080/",
     "height": 466
    },
    "id": "yDHNm43JDJ0u",
    "outputId": "bb663dad-b496-4e2a-cc2f-785ecff5faed"
   },
   "outputs": [],
   "source": [
    "tr = np.array([tr0,tr1,tr2,tr3,tr4,tr5])\n",
    "xr,yr = plot_time(Ns,tr)"
   ]
  },
  {
   "cell_type": "markdown",
   "metadata": {
    "id": "S1EDD-IoDaq6"
   },
   "source": [
    "## Comparação random regular vs configuration model"
   ]
  },
  {
   "cell_type": "code",
   "execution_count": null,
   "metadata": {
    "id": "TOvd9eYKMAAD"
   },
   "outputs": [],
   "source": [
    "def plot_sub_comp1(plots):\n",
    "  fig = make_subplots(rows=3, cols=2, subplot_titles=(\"N = 100 configuration\", \"N = 100 random regular\", \"N = 1000 configuration\", \"N = 1000 random regular\", \"N = 3000 configuration\",\"N = 3000 random regular\"),\n",
    "                    specs=[[{\"type\": \"scatter\"}, {\"type\": \"scatter\"}], [{\"type\": \"scatter\"},\n",
    "                           {\"type\": \"scatter\"}], [{\"type\": \"scatter\"}, {\"type\": \"scatter\"}]])\n",
    "\n",
    "  for i, subplot_fig in enumerate(plots, start=1):\n",
    "      show_legend = True if i == 1 else False\n",
    "      for trace in subplot_fig.data:\n",
    "          trace.showlegend = show_legend\n",
    "          fig.add_trace(trace, row=(i - 1) // 2 + 1, col=(i - 1) % 2 + 1)\n",
    "\n",
    "  # Ajustando o layout\n",
    "  fig.update_layout(height=800, width=1000, title_text=\"Simulations of epidemics using the Gillespie algorithm, the configuration model and random regular networks\")\n",
    "\n",
    "  # Exibindo o gráfico\n",
    "  fig.show()\n",
    "\n",
    "  return"
   ]
  },
  {
   "cell_type": "code",
   "execution_count": null,
   "metadata": {
    "id": "XgiKX9caMY7Z"
   },
   "outputs": [],
   "source": [
    "def plot_sub_comp2(plots):\n",
    "  fig = make_subplots(rows=3, cols=2, subplot_titles=(\"N = 5000 configuration\", \"N = 50000 random regular\", \"N = 8000 configuration\", \"N = 8000 random regular\", \"N = 10000 configuration\",\"N = 10000 random regular\"),\n",
    "                    specs=[[{\"type\": \"scatter\"}, {\"type\": \"scatter\"}], [{\"type\": \"scatter\"},\n",
    "                           {\"type\": \"scatter\"}], [{\"type\": \"scatter\"}, {\"type\": \"scatter\"}]])\n",
    "\n",
    "  for i, subplot_fig in enumerate(plots, start=1):\n",
    "      show_legend = True if i == 1 else False\n",
    "      for trace in subplot_fig.data:\n",
    "          trace.showlegend = show_legend\n",
    "          fig.add_trace(trace, row=(i - 1) // 2 + 1, col=(i - 1) % 2 + 1)\n",
    "\n",
    "  # Ajustando o layout\n",
    "  fig.update_layout(height=800, width=1000, title_text=\"Simulations of epidemics using the Gillespie algorithm, the configuration model and random regular networks\")\n",
    "\n",
    "  # Exibindo o gráfico\n",
    "  fig.show()\n",
    "\n",
    "  return"
   ]
  },
  {
   "cell_type": "code",
   "execution_count": null,
   "metadata": {
    "colab": {
     "base_uri": "https://localhost:8080/"
    },
    "id": "8P1FkhDODhBl",
    "outputId": "708b8c8a-d09b-497c-9d42-7752757d8e85"
   },
   "outputs": [],
   "source": [
    "plot_sub_comp1([fig1,figr1,fig2,figr2,fig3,figr3])"
   ]
  },
  {
   "cell_type": "code",
   "execution_count": null,
   "metadata": {
    "id": "InDhV8PhLu_A"
   },
   "outputs": [],
   "source": [
    "plot_sub_comp2([fig4,figr4,fig5,figr5,fig6,figr6])"
   ]
  },
  {
   "cell_type": "code",
   "execution_count": null,
   "metadata": {
    "id": "_ThTrJ2mDy78"
   },
   "outputs": [],
   "source": [
    "plt.plot(x,y, label='Configuration model adjust', color='C0')\n",
    "plt.scatter(Ns, tempos, label='Time configuration', color='C0')\n",
    "plt.plot(xr,yr, label='Random regular adjust', color='C3')\n",
    "plt.scatter(Ns, tr, label='Time random regular', color='C3')\n",
    "plt.xlabel(\"Size of the network\")\n",
    "plt.ylabel(\"Seconds\")\n",
    "\n",
    "# Remove a borda superior (spine top)\n",
    "ax = plt.gca()  # pega os eixos atuais\n",
    "ax.spines['top'].set_visible(False)\n",
    "ax.spines['right'].set_visible(False)  # direita\n",
    "\n",
    "plt.legend()\n",
    "plt.show()"
   ]
  },
  {
   "cell_type": "markdown",
   "metadata": {
    "id": "her2S8doNgIa"
   },
   "source": [
    "### O algoritmo demora mais em random regular networks. Pode ser porque todos os nós estão conectados, isto é, só há uma componente conexa e com isso, o algoritmo analisa muito mais nós e interações."
   ]
  }
 ],
 "metadata": {
  "colab": {
   "provenance": []
  },
  "kernelspec": {
   "display_name": "Python 3 (ipykernel)",
   "language": "python",
   "name": "python3"
  },
  "language_info": {
   "codemirror_mode": {
    "name": "ipython",
    "version": 3
   },
   "file_extension": ".py",
   "mimetype": "text/x-python",
   "name": "python",
   "nbconvert_exporter": "python",
   "pygments_lexer": "ipython3",
   "version": "3.12.2"
  }
 },
 "nbformat": 4,
 "nbformat_minor": 4
}
